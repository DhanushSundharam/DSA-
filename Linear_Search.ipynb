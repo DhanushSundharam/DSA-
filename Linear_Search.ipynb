{
 "cells": [
  {
   "cell_type": "markdown",
   "id": "ee34c517-120a-4e61-a5d2-8def484ccd7c",
   "metadata": {},
   "source": [
    "# Linear Search "
   ]
  },
  {
   "cell_type": "code",
   "execution_count": 23,
   "id": "c017d267-43e7-4021-b161-466be50517e9",
   "metadata": {},
   "outputs": [],
   "source": [
    "arr = [1,2,3,4,5,6]\n",
    "target = 20"
   ]
  },
  {
   "cell_type": "code",
   "execution_count": 24,
   "id": "4a773984-cf4e-4184-b0ee-fa5b9a03447f",
   "metadata": {},
   "outputs": [],
   "source": [
    "### Search the element return index value for example if the index value is present return index value otherwise -1\n",
    "def Linearsearch(arr,target):\n",
    "    if len(arr) == 0:\n",
    "        return -1\n",
    "\n",
    "    for index in range(len(arr)):\n",
    "        if arr[index] == target:\n",
    "            return index\n",
    "    return -1        "
   ]
  },
  {
   "cell_type": "code",
   "execution_count": 25,
   "id": "08ebd2a1-4e08-45f4-929d-22853200e2e4",
   "metadata": {},
   "outputs": [
    {
     "data": {
      "text/plain": [
       "-1"
      ]
     },
     "execution_count": 25,
     "metadata": {},
     "output_type": "execute_result"
    }
   ],
   "source": [
    "Linearsearch(arr,target)"
   ]
  },
  {
   "cell_type": "code",
   "execution_count": 26,
   "id": "2e7a4cd5-8585-4f21-b454-57ca08400a4f",
   "metadata": {},
   "outputs": [],
   "source": [
    "### Search the target Element return True or False\n",
    "def Linearsearch(arr,target)->bool:\n",
    "    if len(arr) == 0:\n",
    "        return False\n",
    "\n",
    "    for index in range(len(arr)):\n",
    "        if arr[index] == target:\n",
    "            return True\n",
    "    return False        "
   ]
  },
  {
   "cell_type": "code",
   "execution_count": 27,
   "id": "853b3d16-6456-4cb2-8bc9-e88edd6d635f",
   "metadata": {},
   "outputs": [
    {
     "data": {
      "text/plain": [
       "False"
      ]
     },
     "execution_count": 27,
     "metadata": {},
     "output_type": "execute_result"
    }
   ],
   "source": [
    "Linearsearch(arr,target)"
   ]
  },
  {
   "cell_type": "code",
   "execution_count": 28,
   "id": "df6701f4-bb07-497e-82a5-3a5b3b37a500",
   "metadata": {},
   "outputs": [],
   "source": [
    "### Search the Target Element  return value or not\n",
    "import sys\n",
    "def Linearsearch(arr,target)->bool:\n",
    "    if len(arr) == 0:\n",
    "        return sys.maxsize\n",
    "\n",
    "    for index in range(len(arr)):\n",
    "        if arr[index] == target:\n",
    "            return arr[index]\n",
    "    return sys.maxsize        "
   ]
  },
  {
   "cell_type": "code",
   "execution_count": 29,
   "id": "e82670f8-a1e8-48b6-851b-169a76efd53f",
   "metadata": {},
   "outputs": [
    {
     "data": {
      "text/plain": [
       "9223372036854775807"
      ]
     },
     "execution_count": 29,
     "metadata": {},
     "output_type": "execute_result"
    }
   ],
   "source": [
    "Linearsearch(arr,target)"
   ]
  },
  {
   "cell_type": "markdown",
   "id": "0f81d8fb-3222-4acc-bea6-66ad4c67d44b",
   "metadata": {},
   "source": [
    "###  Search Element in the String "
   ]
  },
  {
   "cell_type": "code",
   "execution_count": 39,
   "id": "17aad952-2a8a-4eb6-92c0-f624957b06ab",
   "metadata": {},
   "outputs": [],
   "source": [
    "string = \"kongxgodzilla\"\n",
    "target = \"b\""
   ]
  },
  {
   "cell_type": "code",
   "execution_count": 40,
   "id": "2befbe2f-78de-48eb-8590-0f2a148ef15a",
   "metadata": {},
   "outputs": [],
   "source": [
    "def linearsearch(string,target):\n",
    "    if len(string) == 0:\n",
    "        return False\n",
    "\n",
    "    for index in range(len(string)):\n",
    "        if string[index] == target:\n",
    "            return True\n",
    "\n",
    "    return False"
   ]
  },
  {
   "cell_type": "code",
   "execution_count": 41,
   "id": "0ff74dc3-67f6-460a-b18c-7cf51afececf",
   "metadata": {},
   "outputs": [
    {
     "data": {
      "text/plain": [
       "False"
      ]
     },
     "execution_count": 41,
     "metadata": {},
     "output_type": "execute_result"
    }
   ],
   "source": [
    "linearsearch(string,target)"
   ]
  },
  {
   "cell_type": "markdown",
   "id": "65fbec29-f4c9-4829-be8c-1fe8c911f531",
   "metadata": {},
   "source": [
    "# Search the Element in the Range return True or False"
   ]
  },
  {
   "cell_type": "code",
   "execution_count": 43,
   "id": "d76c7312-0480-4fc9-9181-ac732cdac173",
   "metadata": {},
   "outputs": [],
   "source": [
    "def linearsearch(arr,target,start,end):\n",
    "    if len(arr) == 0:\n",
    "        return False\n",
    "        \n",
    "    for index in range(start,end):\n",
    "        if arr[index] == target:\n",
    "            return True\n",
    "\n",
    "    return False        "
   ]
  },
  {
   "cell_type": "code",
   "execution_count": 45,
   "id": "1716480e-5ae6-49ee-a3ec-5099dafd5544",
   "metadata": {},
   "outputs": [
    {
     "data": {
      "text/plain": [
       "False"
      ]
     },
     "execution_count": 45,
     "metadata": {},
     "output_type": "execute_result"
    }
   ],
   "source": [
    "arr = [10,20,30,40,50,60,70]\n",
    "target = 10\n",
    "start = 2\n",
    "end=7\n",
    "linearsearch(arr,target,start,end)"
   ]
  },
  {
   "cell_type": "markdown",
   "id": "a1b9c7cf-cd56-4526-a573-67abde678261",
   "metadata": {},
   "source": [
    "## Search Element in 2D array in a list returning a Value"
   ]
  },
  {
   "cell_type": "code",
   "execution_count": 82,
   "id": "23f84faa-6d23-4963-af2a-c63540f80104",
   "metadata": {},
   "outputs": [],
   "source": [
    "arr=[]\n",
    "target = 100"
   ]
  },
  {
   "cell_type": "code",
   "execution_count": 83,
   "id": "3cedd223-970e-4b1f-a27c-cb7b0b033b48",
   "metadata": {},
   "outputs": [],
   "source": [
    "import sys\n",
    "def Linearsearch(arr,target):\n",
    "    if len(arr) == 0:\n",
    "        return sys.minsize\n",
    "    for index in range(0,len(arr)):  \n",
    "        for i in range(len(arr[index])):\n",
    "            if arr[index][i] == target:\n",
    "                return [index,i]\n",
    "\n",
    "    return sys.maxsize            \n",
    "                \n",
    "                \n",
    "                 "
   ]
  },
  {
   "cell_type": "code",
   "execution_count": 21,
   "id": "9ec33c6a-6416-4478-95f1-327c9204ae7f",
   "metadata": {},
   "outputs": [
    {
     "data": {
      "text/plain": [
       "9223372036854775807"
      ]
     },
     "execution_count": 21,
     "metadata": {},
     "output_type": "execute_result"
    }
   ],
   "source": [
    "Linearsearch(arr,target)"
   ]
  },
  {
   "cell_type": "markdown",
   "id": "f8f8a923-f512-4fec-a75f-300ebe072c90",
   "metadata": {},
   "source": [
    "## Even Digit"
   ]
  },
  {
   "cell_type": "code",
   "execution_count": 78,
   "id": "56f8729a-c161-4f89-87a2-b23c531da9b3",
   "metadata": {},
   "outputs": [],
   "source": [
    "arr = [11,2,3,678,345,67,89,9087]"
   ]
  },
  {
   "cell_type": "code",
   "execution_count": 80,
   "id": "6c7534af-82ee-4bef-8711-01c046a7743d",
   "metadata": {},
   "outputs": [],
   "source": [
    "def digits(num):\n",
    "    counts = 0\n",
    "\n",
    "    if num < 0 :\n",
    "        num = num * -1\n",
    "\n",
    "    if num == 0:\n",
    "        return 1\n",
    "\n",
    "    while num > 0:\n",
    "       counts +=1\n",
    "       num //=10\n",
    "    return counts   \n",
    "        "
   ]
  },
  {
   "cell_type": "code",
   "execution_count": 76,
   "id": "b2ac2784-9ff9-40aa-acdb-112e2b7e8892",
   "metadata": {},
   "outputs": [],
   "source": [
    "def even(num):\n",
    "    numbersofdigits =  digits(num)\n",
    "    return  numbersofdigits % 2 ==0"
   ]
  },
  {
   "cell_type": "code",
   "execution_count": 75,
   "id": "8adad1fc-eeed-418e-a40f-54d1b51d38f3",
   "metadata": {},
   "outputs": [],
   "source": [
    "def EvenDigit(num1):\n",
    "    count = 0\n",
    "    for i in num1:\n",
    "        if even(i):\n",
    "            count+=1\n",
    "    return count\n",
    "    \n",
    "            "
   ]
  },
  {
   "cell_type": "code",
   "execution_count": 81,
   "id": "27d7a174-3e17-4c34-bfd3-ea6fdc7263c0",
   "metadata": {},
   "outputs": [
    {
     "name": "stdout",
     "output_type": "stream",
     "text": [
      "4\n"
     ]
    }
   ],
   "source": [
    "print(EvenDigit(arr))"
   ]
  },
  {
   "cell_type": "markdown",
   "id": "9667b24e-0aca-40fa-a9c3-216f313b0d68",
   "metadata": {},
   "source": [
    "## Less Time Complexity of EvenDigit"
   ]
  },
  {
   "cell_type": "code",
   "execution_count": 131,
   "id": "ff1934ca-8d6d-4719-b690-ac5577a6851f",
   "metadata": {},
   "outputs": [],
   "source": [
    "arr = [11,2,3,678,345,67,89,9087]"
   ]
  },
  {
   "cell_type": "code",
   "execution_count": 132,
   "id": "ee2b7276-dbd0-4c77-8b98-1965b07b079d",
   "metadata": {},
   "outputs": [],
   "source": [
    "import math\n",
    "def num_of_q(i):\n",
    "    \n",
    "    if i < 0:\n",
    "        i *=-1\n",
    "    return int(math.log10(i)+1)\n",
    "        "
   ]
  },
  {
   "cell_type": "code",
   "execution_count": 133,
   "id": "5fe5dcb8-59fb-4b9c-b7b8-618b576f92f7",
   "metadata": {},
   "outputs": [],
   "source": [
    "def even(i):\n",
    "    number_of_digits = num_of_q(i)\n",
    "    return number_of_digits % 2 == 0"
   ]
  },
  {
   "cell_type": "code",
   "execution_count": 134,
   "id": "5322c3d1-aec3-4d72-bb55-67b08eb295dd",
   "metadata": {},
   "outputs": [],
   "source": [
    "def Evendigit(arr):\n",
    "    count = 0\n",
    "    for i in range(len(arr)):\n",
    "        if even(i):\n",
    "            count+=1\n",
    "    return count        \n",
    "            "
   ]
  },
  {
   "cell_type": "code",
   "execution_count": 139,
   "id": "9de3b84d-b95b-497e-98bf-3a11a791137b",
   "metadata": {},
   "outputs": [
    {
     "name": "stdout",
     "output_type": "stream",
     "text": [
      "2\n"
     ]
    }
   ],
   "source": [
    "print(Evendigit(arr))"
   ]
  },
  {
   "cell_type": "code",
   "execution_count": 136,
   "id": "7ca7958d-c263-4428-a69e-c22445ae0ead",
   "metadata": {},
   "outputs": [
    {
     "data": {
      "text/plain": [
       "1"
      ]
     },
     "execution_count": 136,
     "metadata": {},
     "output_type": "execute_result"
    }
   ],
   "source": [
    "int(math.log10(2)+1)\n"
   ]
  },
  {
   "cell_type": "code",
   "execution_count": 128,
   "id": "c2170a63-10c3-4448-85b4-05c5252b52f7",
   "metadata": {},
   "outputs": [
    {
     "data": {
      "text/plain": [
       "4"
      ]
     },
     "execution_count": 128,
     "metadata": {},
     "output_type": "execute_result"
    }
   ],
   "source": [
    "4%10"
   ]
  },
  {
   "cell_type": "code",
   "execution_count": 137,
   "id": "05e92243-b7eb-470a-8485-b59a06a0bef3",
   "metadata": {},
   "outputs": [
    {
     "name": "stdout",
     "output_type": "stream",
     "text": [
      "2\n"
     ]
    }
   ],
   "source": [
    "import math\n",
    "\n",
    "def num_of_digits(i):\n",
    "    if i == 0:  # Handle special case of zero separately\n",
    "        return 1\n",
    "    elif i < 0:\n",
    "        i *= -1  # Convert negative number to positive for counting digits\n",
    "    return int(math.log10(i) + 1)\n",
    "\n",
    "def even(i):\n",
    "    number_of_digits = num_of_digits(i)\n",
    "    return number_of_digits % 2 == 0\n",
    "\n",
    "def Evendigit(arr):\n",
    "    count = 0\n",
    "    for i in arr:\n",
    "        if even(i):\n",
    "            count += 1\n",
    "    return count\n",
    "\n",
    "# Example usage\n",
    "arr = [12, 345, 67, 890]\n",
    "print(Evendigit(arr))  # Output should be 2 (12 and 890 have even number of digits)\n"
   ]
  },
  {
   "cell_type": "markdown",
   "id": "84f73ae9-73ba-49f9-b007-d6089aa00251",
   "metadata": {},
   "source": [
    "### Calculate the Wealth of the Person"
   ]
  },
  {
   "cell_type": "code",
   "execution_count": 143,
   "id": "4c14a25b-fb7c-49b1-8345-38048c89bed2",
   "metadata": {},
   "outputs": [],
   "source": [
    "arr = [[1,2,3],[4,5,6],[7,8,9]]"
   ]
  },
  {
   "cell_type": "code",
   "execution_count": 166,
   "id": "f077ec9e-df10-4382-8a59-c478e35aa04c",
   "metadata": {},
   "outputs": [],
   "source": [
    "def calulate_person_wealth(arr):\n",
    "    print(arr)\n",
    "    \n",
    "    for i in range(len(arr)):\n",
    "        ans = 0\n",
    "        max = 0\n",
    "        for j in range(len(arr[i])):\n",
    "            ans = ans + arr[i][j]\n",
    "\n",
    "        if ans > max :\n",
    "           max = [ans,f\"person {i} higher wealth\"]\n",
    "        \n",
    "    return max       \n",
    "            "
   ]
  },
  {
   "cell_type": "code",
   "execution_count": 167,
   "id": "3a07b65a-4124-445e-b3fa-b3a03b028d77",
   "metadata": {},
   "outputs": [
    {
     "name": "stdout",
     "output_type": "stream",
     "text": [
      "[[1, 2, 3], [4, 5, 6], [7, 8, 9]]\n"
     ]
    },
    {
     "data": {
      "text/plain": [
       "[24, 'person 2 higher wealth']"
      ]
     },
     "execution_count": 167,
     "metadata": {},
     "output_type": "execute_result"
    }
   ],
   "source": [
    "calulate_person_wealth(arr)"
   ]
  },
  {
   "cell_type": "code",
   "execution_count": null,
   "id": "2f6d5eb6-a24c-4850-9d65-f1a06ab789dd",
   "metadata": {},
   "outputs": [],
   "source": []
  }
 ],
 "metadata": {
  "kernelspec": {
   "display_name": "Python 3 (ipykernel)",
   "language": "python",
   "name": "python3"
  },
  "language_info": {
   "codemirror_mode": {
    "name": "ipython",
    "version": 3
   },
   "file_extension": ".py",
   "mimetype": "text/x-python",
   "name": "python",
   "nbconvert_exporter": "python",
   "pygments_lexer": "ipython3",
   "version": "3.8.0"
  }
 },
 "nbformat": 4,
 "nbformat_minor": 5
}
